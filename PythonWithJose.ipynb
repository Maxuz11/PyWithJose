{
  "nbformat": 4,
  "nbformat_minor": 0,
  "metadata": {
    "colab": {
      "name": "PythonWithJose.ipynb",
      "provenance": [],
      "collapsed_sections": []
    },
    "kernelspec": {
      "name": "python3",
      "display_name": "Python 3"
    },
    "language_info": {
      "name": "python"
    }
  },
  "cells": [
    {
      "cell_type": "code",
      "execution_count": 7,
      "metadata": {
        "id": "4Ty0w-_LpmBz"
      },
      "outputs": [],
      "source": [
        "A = [1,3,5,2,10] \n"
      ]
    },
    {
      "cell_type": "code",
      "source": [
        "# esta mal!!\n",
        "def funcion(a): \n",
        "  c = ((a[0]-a[1])**2) + ((a[1]-a[2])**2) + ((a[2]-a[3])**2) + ((a[3]-a[4])**2)\n",
        "  print(c)\n",
        "   "
      ],
      "metadata": {
        "id": "X_3MuAkUsB2a"
      },
      "execution_count": 8,
      "outputs": []
    },
    {
      "cell_type": "code",
      "source": [
        "def CalcularArray(d): # Todo lo que trabaje dentro de la definicion debe ser en pos del argumento \"d\"\n",
        "  sum = 0\n",
        "  for i in range(len(d)-1):\n",
        "    sum += (d[i] - d[i+1])**2\n",
        "  print(sum)\n"
      ],
      "metadata": {
        "id": "Y3DsUm6mvXKT"
      },
      "execution_count": 9,
      "outputs": []
    },
    {
      "cell_type": "code",
      "source": [
        "A = [1,3,5,2,10] \n",
        "CalcularArray(A) \n"
      ],
      "metadata": {
        "colab": {
          "base_uri": "https://localhost:8080/"
        },
        "id": "cNYdw2JBsfiw",
        "outputId": "6373dd8b-4071-40ee-93e7-1f633d52c457"
      },
      "execution_count": 33,
      "outputs": [
        {
          "output_type": "stream",
          "name": "stdout",
          "text": [
            "81\n"
          ]
        }
      ]
    },
    {
      "cell_type": "code",
      "source": [
        "def mayordif(e):\n",
        "  mayor = 0\n",
        "  for i in range(len(e)-1):\n",
        "    if abs(e[i] - e[i+1]) > mayor: \n",
        "      mayor = abs(e[i] - e[i+1])\n",
        "      posicion = i+1\n",
        "  return posicion, mayor"
      ],
      "metadata": {
        "id": "wVMD6wgOs2j7"
      },
      "execution_count": 39,
      "outputs": []
    },
    {
      "cell_type": "code",
      "source": [
        "mayordif(A)"
      ],
      "metadata": {
        "colab": {
          "base_uri": "https://localhost:8080/"
        },
        "id": "RmI3rtCi90IN",
        "outputId": "4cee5d09-317c-4c3e-ad8f-8d1a77226f91"
      },
      "execution_count": 40,
      "outputs": [
        {
          "output_type": "execute_result",
          "data": {
            "text/plain": [
              "(4, 8)"
            ]
          },
          "metadata": {},
          "execution_count": 40
        }
      ]
    },
    {
      "cell_type": "code",
      "source": [
        "import statistics as stats"
      ],
      "metadata": {
        "id": "NCZjYeJx_Pgd"
      },
      "execution_count": 48,
      "outputs": []
    },
    {
      "cell_type": "code",
      "source": [
        "def Media(e):\n",
        "  return stats.median(e)\n",
        "    "
      ],
      "metadata": {
        "id": "sdL9smjd7fYI"
      },
      "execution_count": 49,
      "outputs": []
    },
    {
      "cell_type": "code",
      "source": [
        "def insertNum(ListArray, posi, may):\n",
        "  ListArray1 = ListArray.copy()\n",
        "  ListArray1.insert(posi, may)\n",
        "  return ListArray1"
      ],
      "metadata": {
        "id": "oV_VAEICGtts"
      },
      "execution_count": 22,
      "outputs": []
    },
    {
      "cell_type": "code",
      "source": [
        "\n",
        "p, m = mayordif(A) # recojo los valores de la def de la difmayores y se los entrego con el return a p y m\n",
        "med = int(Media( [ A[p-1], A[p] ] )) # [] los iniciales corresponde a que le entrego un elemento de tipo lista, p corresponde a la posisicon 4 ya que fue establecida y p+1 es 5 tomara los datos de la lista inicial sacando la demia de 2 y 10 que son los numeros en dichas posiciones\n",
        "B = insertNum(A, p, med) # aqui le entrego la lista y los valores p y m a la definicion la cual necesia 3 argumentos\n",
        "CalcularArray(B) \n",
        "print(B) # lista actualizada\n"
      ],
      "metadata": {
        "colab": {
          "base_uri": "https://localhost:8080/"
        },
        "id": "2Y7g8A3TA998",
        "outputId": "7700f93c-3604-4d28-8581-d29d94e7e2a7"
      },
      "execution_count": 57,
      "outputs": [
        {
          "output_type": "stream",
          "name": "stdout",
          "text": [
            "49\n",
            "[1, 3, 5, 2, 6, 10]\n",
            "6\n"
          ]
        }
      ]
    },
    {
      "cell_type": "code",
      "source": [
        "A = [4, 4, 7, 1, 4]\n",
        "def CalcularArray(d): # Todo lo que trabaje dentro de la definicion debe ser en pos del argumento \"d\"\n",
        "  sum = 0\n",
        "  for i in range(len(d)-1):\n",
        "    sum += (d[i] - d[i+1])**2\n",
        "  print(sum)\n",
        "\n",
        "def mayordif(e):\n",
        "  mayor = 0\n",
        "  for i in range(len(e)-1):\n",
        "    if abs(e[i] - e[i+1]) > mayor: \n",
        "      mayor = abs(e[i] - e[i+1])\n",
        "      posicion = i+1\n",
        "  return posicion, mayor\n",
        "\n",
        "def Media(e):\n",
        "  return stats.median(e)\n",
        "\n",
        "def insertNum(ListArray, posi, may):\n",
        "  ListArray1 = ListArray.copy()\n",
        "  ListArray1.insert(posi, may)\n",
        "  return ListArray1  \n",
        "\n",
        "p, m = mayordif(A)  \n",
        "med = int(Media( [ A[p-1], A[p] ] )) \n",
        "B = insertNum(A, p, med) \n",
        "CalcularArray(B) "
      ],
      "metadata": {
        "id": "YjjnP-2_FzL2",
        "colab": {
          "base_uri": "https://localhost:8080/"
        },
        "outputId": "494caa9c-b7d9-40c5-a867-938b7ff9d7a2"
      },
      "execution_count": 61,
      "outputs": [
        {
          "output_type": "stream",
          "name": "stdout",
          "text": [
            "36\n"
          ]
        }
      ]
    }
  ]
}